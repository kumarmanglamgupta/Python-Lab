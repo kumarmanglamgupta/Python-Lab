{
 "cells": [
  {
   "cell_type": "markdown",
   "id": "a4d16dc8",
   "metadata": {},
   "source": [
    "2: Write a Pandas program to create and display a DataFrame from a specified dictionary data which has the index labels. \n",
    "\n",
    "Sample Python dictionary data and list labels: \n",
    "\n",
    "exam_data = {'name': ['Anastasia', 'Dima', 'Katherine', 'James', 'Emily', 'Michael', 'Matthew', 'Laura', 'Kevin', 'Jonas'],\n",
    "\n",
    " 'score': [12.5, 9, 16.5, np.nan, 9, 20, 14.5, np.nan, 8, 19], \n",
    "\n",
    "'attempts': [1, 3, 2, 3, 2, 3, 1, 1, 2, 1], \n",
    "\n",
    "'qualify': ['yes', 'no', 'yes', 'no', 'no', 'yes', 'yes', 'no', 'no', 'yes']}\n",
    "\n"
   ]
  },
  {
   "cell_type": "code",
   "execution_count": 4,
   "id": "8c77a9b4",
   "metadata": {},
   "outputs": [
    {
     "name": "stdout",
     "output_type": "stream",
     "text": [
      "                name  score  attempts qualify\n",
      "Student1   Anastasia   12.5         1     yes\n",
      "Student2        Dima    9.0         3      no\n",
      "Student3   Katherine   16.5         2     yes\n",
      "Student4       James    NaN         3      no\n",
      "Student5       Emily    9.0         2      no\n",
      "Student6     Michael   20.0         3     yes\n",
      "Student7     Matthew   14.5         1     yes\n",
      "Student8       Laura    NaN         1      no\n",
      "Student9       Kevin    8.0         2      no\n",
      "Student10      Jonas   19.0         1     yes\n"
     ]
    }
   ],
   "source": [
    "# Importing the necessary libraries\n",
    "import pandas as pd\n",
    "import numpy as np  # Importing numpy for handling NaN values\n",
    "\n",
    "# Sample dictionary data\n",
    "exam_data = {\n",
    "    'name': ['Anastasia', 'Dima', 'Katherine', 'James', 'Emily', 'Michael', 'Matthew', 'Laura', 'Kevin', 'Jonas'],\n",
    "    'score': [12.5, 9, 16.5, np.nan, 9, 20, 14.5, np.nan, 8, 19], \n",
    "    'attempts': [1, 3, 2, 3, 2, 3, 1, 1, 2, 1], \n",
    "    'qualify': ['yes', 'no', 'yes', 'no', 'no', 'yes', 'yes', 'no', 'no', 'yes']\n",
    "}\n",
    "\n",
    "# List of index labels\n",
    "index_labels = ['Student1', 'Student2', 'Student3', 'Student4', 'Student5',\n",
    "                 'Student6', 'Student7', 'Student8', 'Student9', 'Student10']\n",
    "\n",
    "# Creating a DataFrame from the dictionary and assigning index labels\n",
    "df = pd.DataFrame(exam_data, index=index_labels)\n",
    "\n",
    "# Displaying the DataFrame\n",
    "print(df)\n"
   ]
  }
 ],
 "metadata": {
  "kernelspec": {
   "display_name": "Python 3 (ipykernel)",
   "language": "python",
   "name": "python3"
  },
  "language_info": {
   "codemirror_mode": {
    "name": "ipython",
    "version": 3
   },
   "file_extension": ".py",
   "mimetype": "text/x-python",
   "name": "python",
   "nbconvert_exporter": "python",
   "pygments_lexer": "ipython3",
   "version": "3.11.5"
  }
 },
 "nbformat": 4,
 "nbformat_minor": 5
}
