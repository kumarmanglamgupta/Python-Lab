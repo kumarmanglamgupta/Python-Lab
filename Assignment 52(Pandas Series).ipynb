{
 "cells": [
  {
   "cell_type": "markdown",
   "id": "6dd5d251",
   "metadata": {},
   "source": [
    "1: Suppose you are a teacher, and you want to analyze the exam scores of your students in a particular subject. You have recorded the scores of your students for a recent exam, and you want to represent this data using a Pandas Series.\n",
    "\n",
    " Input: students = ['Alice', 'Bob', 'Charlie', 'David', 'Eve', 'Frank', 'Grace', 'Hannah', 'Ivy', 'Jack']\n",
    "\n",
    " exam_scores = [92, 88, 76, 94, 82, 90, 85, 89, 78, 91]"
   ]
  },
  {
   "cell_type": "code",
   "execution_count": 21,
   "id": "b092bbd4",
   "metadata": {},
   "outputs": [
    {
     "name": "stdout",
     "output_type": "stream",
     "text": [
      "Student Exam Scores\n",
      "Alice      92\n",
      "Bob        88\n",
      "Charlie    76\n",
      "David      94\n",
      "Eve        82\n",
      "Frank      90\n",
      "Grace      85\n",
      "Hannah     89\n",
      "Ivy        78\n",
      "Jack       91\n",
      "Name: Student Exam Scores, dtype: int64\n"
     ]
    }
   ],
   "source": [
    "#importing libraries\n",
    "import pandas as pd\n",
    "\n",
    "# List of student names\n",
    "students = ['Alice', 'Bob', 'Charlie', 'David', 'Eve', 'Frank', 'Grace', 'Hannah', 'Ivy', 'Jack']\n",
    "\n",
    "# Corresponding list of exam scores\n",
    "exam_scores = [92, 88, 76, 94, 82, 90, 85, 89, 78, 91]\n",
    "\n",
    "# Creating a Pandas Series with the student names as index and exam scores as values\n",
    "scores_series = pd.Series(data=exam_scores, index=students, name='Student Exam Scores')\n",
    "\n",
    "# Print the Pandas Series to view the exam scores with student names\n",
    "print('Student Exam Scores')\n",
    "print(scores_series)"
   ]
  }
 ],
 "metadata": {
  "kernelspec": {
   "display_name": "Python 3 (ipykernel)",
   "language": "python",
   "name": "python3"
  },
  "language_info": {
   "codemirror_mode": {
    "name": "ipython",
    "version": 3
   },
   "file_extension": ".py",
   "mimetype": "text/x-python",
   "name": "python",
   "nbconvert_exporter": "python",
   "pygments_lexer": "ipython3",
   "version": "3.11.5"
  }
 },
 "nbformat": 4,
 "nbformat_minor": 5
}
