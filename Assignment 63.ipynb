{
 "cells": [
  {
   "cell_type": "code",
   "execution_count": 1,
   "id": "dad70c2a",
   "metadata": {},
   "outputs": [
    {
     "name": "stdout",
     "output_type": "stream",
     "text": [
      "The solution is:\n",
      "[0.74074074 1.40740741]\n"
     ]
    }
   ],
   "source": [
    "import numpy as np\n",
    "from scipy.linalg import solve\n",
    "\n",
    "# Define the coefficient matrix A\n",
    "# This matrix represents the coefficients of x and y in the system of equations\n",
    "# 7x + 2y = 8\n",
    "# 4x + 5y = 10\n",
    "A = np.array([[7, 2],  # Coefficients of x and y in the first equation\n",
    "              [4, 5]]) # Coefficients of x and y in the second equation\n",
    "\n",
    "# Define the constant vector b\n",
    "# This vector represents the constants on the right-hand side of the equations\n",
    "# 8 corresponds to the first equation (7x + 2y = 8)\n",
    "# 10 corresponds to the second equation (4x + 5y = 10)\n",
    "b = np.array([8, 10])\n",
    "\n",
    "# Solve the system of linear equations\n",
    "# The solve function computes the exact solution to the equation A * x = b\n",
    "solution = solve(A, b)\n",
    "\n",
    "# Print the solution\n",
    "# The solution contains the values of x and y that satisfy both equations\n",
    "print(\"The solution is:\")\n",
    "print(solution)"
   ]
  }
 ],
 "metadata": {
  "kernelspec": {
   "display_name": "Python 3 (ipykernel)",
   "language": "python",
   "name": "python3"
  },
  "language_info": {
   "codemirror_mode": {
    "name": "ipython",
    "version": 3
   },
   "file_extension": ".py",
   "mimetype": "text/x-python",
   "name": "python",
   "nbconvert_exporter": "python",
   "pygments_lexer": "ipython3",
   "version": "3.11.5"
  }
 },
 "nbformat": 4,
 "nbformat_minor": 5
}
