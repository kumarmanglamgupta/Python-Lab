{
 "cells": [
  {
   "cell_type": "markdown",
   "id": "5776b991",
   "metadata": {},
   "source": [
    "2: Suppose you want to track and analyze your household expenses for a month. You have recorded the expenses for various categories, such as groceries, utilities, rent, transportation, and entertainment. You can represent this expense data using a Pandas Series. \n",
    "\n",
    "Input: # Expense categories\n",
    "\n",
    " categories = ['Groceries', 'Utilities', 'Rent', 'Transportation', 'Entertainment']\n",
    "\n",
    " Monthly expense data (example data in USD) \n",
    "\n",
    "expenses = [500, 200, 1200, 300, 150]"
   ]
  },
  {
   "cell_type": "code",
   "execution_count": 24,
   "id": "bd7ec2db",
   "metadata": {},
   "outputs": [
    {
     "name": "stdout",
     "output_type": "stream",
     "text": [
      "Household \tExpenses:\n",
      "Groceries          500\n",
      "Utilities          200\n",
      "Rent              1200\n",
      "Transportation     300\n",
      "Entertainment      150\n",
      "Name: Monthly Expenses Data, dtype: int64\n"
     ]
    }
   ],
   "source": [
    "#importing libraries\n",
    "import pandas as pd\n",
    "\n",
    "# List of expense categories\n",
    "categories = ['Groceries', 'Utilities', 'Rent', 'Transportation', 'Entertainment']\n",
    "\n",
    "# Corresponding list of monthly expenses in USD\n",
    "expenses = [500, 200, 1200, 300, 150]\n",
    "\n",
    "# Create a Pandas Series with expense categories as the index and expense amounts as values\n",
    "expenses_series = pd.Series(data=expenses, index=categories, name='Monthly Expenses Data')\n",
    "\n",
    "# Print the Pandas Series to view the expense data\n",
    "print(\"Household \\tExpenses:\")\n",
    "print(expenses_series)"
   ]
  }
 ],
 "metadata": {
  "kernelspec": {
   "display_name": "Python 3 (ipykernel)",
   "language": "python",
   "name": "python3"
  },
  "language_info": {
   "codemirror_mode": {
    "name": "ipython",
    "version": 3
   },
   "file_extension": ".py",
   "mimetype": "text/x-python",
   "name": "python",
   "nbconvert_exporter": "python",
   "pygments_lexer": "ipython3",
   "version": "3.11.5"
  }
 },
 "nbformat": 4,
 "nbformat_minor": 5
}
