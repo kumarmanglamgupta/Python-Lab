{
 "cells": [
  {
   "cell_type": "markdown",
   "id": "6d133b2b",
   "metadata": {},
   "source": [
    "1: Write a Pandas program to create a dataframe from a dictionary and display it.\n",
    "\n",
    " Sample data:\n",
    "\n",
    " score={'Math':[78,85,96,80,86], 'English':[84,94,89,83,86],'Hindi':[86,97,96,72,83]} "
   ]
  },
  {
   "cell_type": "code",
   "execution_count": 1,
   "id": "d639f0f2",
   "metadata": {},
   "outputs": [
    {
     "name": "stdout",
     "output_type": "stream",
     "text": [
      "   Math  English  Hindi\n",
      "0    78       84     86\n",
      "1    85       94     97\n",
      "2    96       89     96\n",
      "3    80       83     72\n",
      "4    86       86     83\n"
     ]
    }
   ],
   "source": [
    "# Importing the pandas library\n",
    "import pandas as pd\n",
    "\n",
    "# Sample data: Dictionary containing scores for different subjects\n",
    "score = {\n",
    "    'Math': [78, 85, 96, 80, 86],   # Math scores\n",
    "    'English': [84, 94, 89, 83, 86], # English scores\n",
    "    'Hindi': [86, 97, 96, 72, 83]    # Hindi scores\n",
    "}\n",
    "\n",
    "# Creating a DataFrame from the dictionary\n",
    "# Each key in the dictionary becomes a column in the DataFrame\n",
    "df = pd.DataFrame(score)\n",
    "\n",
    "# Displaying the DataFrame\n",
    "print(df)\n"
   ]
  }
 ],
 "metadata": {
  "kernelspec": {
   "display_name": "Python 3 (ipykernel)",
   "language": "python",
   "name": "python3"
  },
  "language_info": {
   "codemirror_mode": {
    "name": "ipython",
    "version": 3
   },
   "file_extension": ".py",
   "mimetype": "text/x-python",
   "name": "python",
   "nbconvert_exporter": "python",
   "pygments_lexer": "ipython3",
   "version": "3.11.5"
  }
 },
 "nbformat": 4,
 "nbformat_minor": 5
}
